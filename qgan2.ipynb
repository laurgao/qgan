{
 "metadata": {
  "language_info": {
   "codemirror_mode": {
    "name": "ipython",
    "version": 3
   },
   "file_extension": ".py",
   "mimetype": "text/x-python",
   "name": "python",
   "nbconvert_exporter": "python",
   "pygments_lexer": "ipython3",
   "version": "3.9.0"
  },
  "orig_nbformat": 2,
  "kernelspec": {
   "name": "python390jvsc74a57bd0ac59ebe37160ed0dfa835113d9b8498d9f09ceb179beaac4002f036b9467c963",
   "display_name": "Python 3.9.0 64-bit"
  },
  "metadata": {
   "interpreter": {
    "hash": "ac59ebe37160ed0dfa835113d9b8498d9f09ceb179beaac4002f036b9467c963"
   }
  }
 },
 "nbformat": 4,
 "nbformat_minor": 2,
 "cells": [
  {
   "cell_type": "code",
   "execution_count": 1,
   "metadata": {},
   "outputs": [
    {
     "output_type": "stream",
     "name": "stdout",
     "text": [
      "INFO:tensorflow:Enabling eager execution\n",
      "INFO:tensorflow:Enabling v2 tensorshape\n",
      "INFO:tensorflow:Enabling resource variables\n",
      "INFO:tensorflow:Enabling tensor equality\n",
      "INFO:tensorflow:Enabling control flow v2\n"
     ]
    }
   ],
   "source": [
    "import pennylane as qml\n",
    "import tensorflow as tf\n",
    "from pennylane import numpy as np\n",
    "from matplotlib import pyplot as plt"
   ]
  },
  {
   "cell_type": "code",
   "execution_count": 2,
   "metadata": {},
   "outputs": [],
   "source": [
    "def real_data(phi, **kwargs):\r\n",
    "    # phi is a list with length 12\r\n",
    "    qml.Hadamard(wires=0)\r\n",
    "    qml.CNOT(wires=[0,1])\r\n",
    "    qml.RX(phi[0], wires=0)\r\n",
    "    qml.RY(phi[1], wires=0)\r\n",
    "    qml.RZ(phi[2], wires=0)\r\n",
    "    qml.RX(phi[3], wires=0)\r\n",
    "    qml.RY(phi[4], wires=0)\r\n",
    "    qml.RZ(phi[5], wires=0)\r\n",
    "    qml.CNOT(wires=[0, 1])\r\n",
    "    qml.RX(phi[6], wires=1)\r\n",
    "    qml.RY(phi[7], wires=1)\r\n",
    "    qml.RZ(phi[8], wires=1)\r\n",
    "    qml.RX(phi[9], wires=1)\r\n",
    "    qml.RY(phi[10], wires=1)\r\n",
    "    qml.RZ(phi[11], wires=1)"
   ]
  },
  {
   "cell_type": "code",
   "execution_count": 3,
   "metadata": {},
   "outputs": [],
   "source": [
    "# Wires 0 and 1 are the 2 qubit state. \n",
    "\n",
    "def generator(w, **kwargs):\n",
    "    qml.Hadamard(wires=0)\n",
    "    qml.CNOT(wires=[0,1])\n",
    "    generator_layer(w[:11])\n",
    "    generator_layer(w[11:22])\n",
    "    generator_layer(w[22:33]) # includes w[22], doesnt include w[33]\n",
    "    qml.RX(w[33], wires=0)\n",
    "    qml.RY(w[34], wires=0)\n",
    "    qml.RZ(w[35], wires=0)\n",
    "    qml.RX(w[36], wires=0)\n",
    "    qml.RY(w[37], wires=0)\n",
    "    qml.RZ(w[38], wires=0)\n",
    "    qml.CNOT(wires=[0, 1])\n",
    "    qml.RX(w[39], wires=1)\n",
    "    qml.RY(w[40], wires=1)\n",
    "    qml.RZ(w[41], wires=1)\n",
    "    qml.RX(w[42], wires=1)\n",
    "    qml.RY(w[43], wires=1)\n",
    "    qml.RZ(w[44], wires=1)\n",
    "\n",
    "def generator_layer(w):\n",
    "    qml.RX(w[0], wires=0)\n",
    "    qml.RX(w[1], wires=1)\n",
    "    qml.RX(w[2], wires=2)\n",
    "    qml.RX(w[3], wires=3)\n",
    "    qml.RZ(w[4], wires=0)\n",
    "    qml.RZ(w[5], wires=1)\n",
    "    qml.RZ(w[6], wires=2)\n",
    "    qml.RZ(w[7], wires=3)\n",
    "    qml.MultiRZ(w[8], wires=[0, 1])\n",
    "    qml.MultiRZ(w[9], wires=[2, 3])\n",
    "    qml.MultiRZ(w[10], wires=[1, 2])\n",
    "    # 11 weights"
   ]
  },
  {
   "cell_type": "code",
   "execution_count": 4,
   "metadata": {},
   "outputs": [],
   "source": [
    "# the discriminator acts on wires 0, 1, and 4\n",
    "\n",
    "def discriminator_layer(w, **kwargs):\n",
    "    qml.Hadamard(wires=0)\n",
    "    qml.CNOT(wires=[0,1])\n",
    "    qml.RX(w[0], wires=0)\n",
    "    qml.RX(w[1], wires=1)\n",
    "    qml.RX(w[2], wires=4)\n",
    "    qml.RZ(w[3], wires=0)\n",
    "    qml.RZ(w[4], wires=1)\n",
    "    qml.RZ(w[5], wires=4)\n",
    "    qml.MultiRZ(w[6], wires=[0, 1])\n",
    "    qml.MultiRZ(w[7], wires=[1, 4])\n",
    "\n",
    "def discriminator(w, **kwargs):\n",
    "    discriminator_layer(w[:8])\n",
    "    discriminator_layer(w[8:16]) \n",
    "    discriminator_layer(w[16:32])\n",
    "    qml.RX(w[32], wires=4)\n",
    "    qml.RY(w[33], wires=4)\n",
    "    qml.RZ(w[34], wires=4)"
   ]
  },
  {
   "cell_type": "code",
   "execution_count": 5,
   "metadata": {},
   "outputs": [],
   "source": [
    "num_wires = 5\n",
    "dev = qml.device('cirq.simulator', wires=num_wires)"
   ]
  },
  {
   "cell_type": "code",
   "execution_count": 6,
   "metadata": {},
   "outputs": [],
   "source": [
    "@qml.qnode(dev, interface='tf')\n",
    "def real_discriminator(phi, discriminator_weights):\n",
    "    real_data(phi)\n",
    "    discriminator(discriminator_weights)\n",
    "    return qml.expval(qml.PauliZ(4))\n",
    "\n",
    "@qml.qnode(dev, interface='tf')\n",
    "def generator_discriminator(generator_weights, discriminator_weights):\n",
    "    generator(generator_weights)\n",
    "    discriminator(discriminator_weights)\n",
    "    return qml.expval(qml.PauliZ(4))"
   ]
  },
  {
   "cell_type": "code",
   "execution_count": 7,
   "metadata": {},
   "outputs": [],
   "source": [
    "def probability_real_real(discriminator_weights):\n",
    "    # probability of guessing real data as real\n",
    "    discriminator_output = real_discriminator(phi, discriminator_weights) # the output of the discriminator classifying the data as real\n",
    "    probability_real_real = (discriminator_output + 1) / 2\n",
    "    return probability_real_real\n",
    "\n",
    "def probability_fake_real(generator_weights, discriminator_weights):\n",
    "    # probability of guessing real fake as real\n",
    "    # incorrect classification\n",
    "    discriminator_output = generator_discriminator(generator_weights, discriminator_weights)\n",
    "    probability_fake_real = (discriminator_output + 1) / 2\n",
    "    return probability_fake_real\n",
    "       \n",
    "def discriminator_cost(discriminator_weights):\n",
    "    accuracy = probability_real_real(discriminator_weights) - probability_fake_real(generator_weights, discriminator_weights)\n",
    "    # accuracy = correct classification - incorrect classification\n",
    "    cost = -accuracy    \n",
    "    return cost\n",
    "\n",
    "def generator_cost(generator_weights):\n",
    "    accuracy = probability_fake_real(generator_weights, discriminator_weights)\n",
    "    # accuracy = probability that the generator fools the discriminator\n",
    "    cost = -accuracy\n",
    "    return cost"
   ]
  },
  {
   "source": [
    "# variables\n",
    "phi = [np.pi] * 12\n",
    "for i in range(len(phi)):\n",
    "    phi[i] = phi[i] / np.random.randint(2, 11)\n",
    "num_epochs = 30\n",
    "eps = 1 \n",
    "\n",
    "initial_generator_weights = np.array([np.pi] + [0] * 44) + \\\n",
    "    np.random.normal(scale=eps, size=(45,))\n",
    "initial_discriminator_weights = np.random.normal(scale=eps, size=(35,))\n",
    "\n",
    "generator_weights = tf.Variable(initial_generator_weights)\n",
    "discriminator_weights = tf.Variable(initial_discriminator_weights)"
   ],
   "cell_type": "code",
   "metadata": {},
   "execution_count": 8,
   "outputs": []
  },
  {
   "source": [
    "Irrelevant question: where does the name 'eps' come from? epsilon?"
   ],
   "cell_type": "markdown",
   "metadata": {}
  },
  {
   "cell_type": "code",
   "execution_count": 9,
   "metadata": {},
   "outputs": [
    {
     "output_type": "stream",
     "name": "stdout",
     "text": [
      "35\n",
      "\n",
      "Cost: -0.0034253858029842377\n",
      "\n",
      "Probability classify real as real:  0.5809671878814697\n",
      "\n",
      "Probability classify fake as real:  0.07850005850195885\n"
     ]
    }
   ],
   "source": [
    "# Let's run some tests first to make sure ur circuitry works.\n",
    "# print(initial_discriminator_weights)\n",
    "print(len(initial_discriminator_weights))\n",
    "print('\\nCost:', discriminator_cost(discriminator_weights).numpy())\n",
    "print('\\nProbability classify real as real: ', probability_real_real(generator_weights).numpy())\n",
    "print('\\nProbability classify fake as real: ', probability_fake_real(generator_weights, discriminator_weights).numpy())"
   ]
  },
  {
   "cell_type": "code",
   "execution_count": 10,
   "metadata": {},
   "outputs": [],
   "source": [
    "opt = tf.keras.optimizers.SGD(0.4) # 0.4 is lr?"
   ]
  },
  {
   "cell_type": "code",
   "execution_count": 16,
   "metadata": {
    "tags": []
   },
   "outputs": [],
   "source": [
    "def train_discriminator():\n",
    "    for epoch in range(num_epochs):\n",
    "        cost = lambda: discriminator_cost(discriminator_weights) \n",
    "        # you need lambda because discriminator weights is a tensorflow object\n",
    "        opt.minimize(cost, discriminator_weights)\n",
    "        if epoch % 5 == 0:\n",
    "            cost_val = discriminator_cost(discriminator_weights).numpy()\n",
    "            print('Epoch  {}/{}, Cost: {}, Probability class real as real: {}'.format(epoch, num_epochs, cost_val, probability_real_real(discriminator_weights).numpy()))\n",
    "        if epoch == num_epochs - 1:\n",
    "            print('\\n')\n",
    "\n",
    "def train_generator():\n",
    "    for epoch in range(num_epochs):\n",
    "        cost = lambda: generator_cost(generator_weights)\n",
    "        opt.minimize(cost, generator_weights)\n",
    "        if epoch % 5 == 0:\n",
    "            cost_val = generator_cost(generator_weights).numpy()\n",
    "            print('Epoch  {}/{}, Cost: {}, Probability class fake as real: {}'.format(epoch, num_epochs, cost_val, probability_fake_real(generator_weights, discriminator_weights).numpy()))\n",
    "        if epoch == num_epochs - 1:\n",
    "            print('\\n')"
   ]
  },
  {
   "cell_type": "code",
   "execution_count": 17,
   "metadata": {},
   "outputs": [
    {
     "output_type": "stream",
     "name": "stdout",
     "text": [
      "Epoch  0/30, Cost: -0.14299175143241882, Probability class real as real: 0.7159662395715714\n",
      "Epoch  5/30, Cost: -0.16198615729808807, Probability class real as real: 0.6768261790275574\n",
      "Epoch  10/30, Cost: -0.1782488077878952, Probability class real as real: 0.6543751358985901\n",
      "Epoch  15/30, Cost: -0.1930706650018692, Probability class real as real: 0.6391105055809021\n",
      "Epoch  20/30, Cost: -0.20613813400268555, Probability class real as real: 0.6282232850790024\n",
      "Epoch  25/30, Cost: -0.2171032577753067, Probability class real as real: 0.6213741898536682\n",
      "\n",
      "\n",
      "Epoch  0/30, Cost: -0.8329757153987885, Probability class fake as real: 0.8329757153987885\n",
      "Epoch  5/30, Cost: -0.9646678753197193, Probability class fake as real: 0.9646678753197193\n",
      "Epoch  10/30, Cost: -0.9865575945004821, Probability class fake as real: 0.9865575945004821\n",
      "Epoch  15/30, Cost: -0.9927986208349466, Probability class fake as real: 0.9927986208349466\n",
      "Epoch  20/30, Cost: -0.994613244663924, Probability class fake as real: 0.994613244663924\n",
      "Epoch  25/30, Cost: -0.9951627007685602, Probability class fake as real: 0.9951627007685602\n",
      "\n",
      "\n"
     ]
    }
   ],
   "source": [
    "train_discriminator()\n",
    "train_generator()"
   ]
  },
  {
   "cell_type": "code",
   "execution_count": 26,
   "metadata": {},
   "outputs": [
    {
     "output_type": "stream",
     "name": "stdout",
     "text": [
      "Epoch  0/30, Cost: 0.17858757823705673, Probability class real as real: 0.7850917801260948\n",
      "Epoch  5/30, Cost: -0.5038639940321445, Probability class real as real: 0.9411767162382603\n",
      "Epoch  10/30, Cost: -0.6774246245622635, Probability class real as real: 0.8727522641420364\n",
      "Epoch  15/30, Cost: -0.6971746385097504, Probability class real as real: 0.8618842959403992\n",
      "Epoch  20/30, Cost: -0.7033393457531929, Probability class real as real: 0.8595472723245621\n",
      "Epoch  25/30, Cost: -0.7069503888487816, Probability class real as real: 0.859374426305294\n",
      "\n",
      "\n",
      "Epoch  0/30, Cost: -0.4890183061361313, Probability class fake as real: 0.4890183061361313\n",
      "Epoch  5/30, Cost: -0.9917170405387878, Probability class fake as real: 0.9917170405387878\n",
      "Epoch  10/30, Cost: -0.997629354824312, Probability class fake as real: 0.997629354824312\n",
      "Epoch  15/30, Cost: -0.9991561353090219, Probability class fake as real: 0.9991561353090219\n",
      "Epoch  20/30, Cost: -0.9995477425254649, Probability class fake as real: 0.9995477425254649\n",
      "Epoch  25/30, Cost: -0.9996513455698732, Probability class fake as real: 0.9996513455698732\n",
      "\n",
      "\n"
     ]
    }
   ],
   "source": [
    "train_discriminator()\n",
    "train_generator()"
   ]
  },
  {
   "cell_type": "code",
   "execution_count": 31,
   "metadata": {},
   "outputs": [
    {
     "output_type": "stream",
     "name": "stdout",
     "text": [
      "Epoch  0/30, Cost: -0.007052108645439148, Probability class real as real: 0.9609975330531597\n",
      "Epoch  5/30, Cost: -0.3559103012084961, Probability class real as real: 0.723712831735611\n",
      "Epoch  10/30, Cost: -0.3637230396270752, Probability class real as real: 0.6964134573936462\n",
      "Epoch  15/30, Cost: -0.3672344982624054, Probability class real as real: 0.6970476806163788\n",
      "Epoch  20/30, Cost: -0.3695698231458664, Probability class real as real: 0.6966312527656555\n",
      "Epoch  25/30, Cost: -0.3712528645992279, Probability class real as real: 0.6956034749746323\n",
      "\n",
      "\n",
      "Epoch  0/30, Cost: -0.7955523580312729, Probability class fake as real: 0.7955523580312729\n",
      "Epoch  5/30, Cost: -0.9809010997414589, Probability class fake as real: 0.9809010997414589\n",
      "Epoch  10/30, Cost: -0.9881522729992867, Probability class fake as real: 0.9881522729992867\n",
      "Epoch  15/30, Cost: -0.9926588421221823, Probability class fake as real: 0.9926588421221823\n",
      "Epoch  20/30, Cost: -0.9953998399432749, Probability class fake as real: 0.9953998399432749\n",
      "Epoch  25/30, Cost: -0.997010440682061, Probability class fake as real: 0.997010440682061\n",
      "\n",
      "\n"
     ]
    }
   ],
   "source": [
    "train_discriminator()\n",
    "train_generator()"
   ]
  },
  {
   "cell_type": "code",
   "execution_count": 47,
   "metadata": {},
   "outputs": [
    {
     "output_type": "stream",
     "name": "stdout",
     "text": [
      "Epoch  0/30, Cost: -0.027889031916856766, Probability class real as real: 0.94832718744874\n",
      "Epoch  5/30, Cost: -0.4558206796646118, Probability class real as real: 0.7265289276838303\n",
      "Epoch  10/30, Cost: -0.46332038938999176, Probability class real as real: 0.7284267246723175\n",
      "Epoch  15/30, Cost: -0.46515069901943207, Probability class real as real: 0.7312363833189011\n",
      "Epoch  20/30, Cost: -0.46579399704933167, Probability class real as real: 0.7325702458620071\n",
      "Epoch  25/30, Cost: -0.46611906588077545, Probability class real as real: 0.7332683950662613\n",
      "\n",
      "\n",
      "Epoch  0/30, Cost: -0.770309753715992, Probability class fake as real: 0.770309753715992\n",
      "Epoch  5/30, Cost: -0.9930740573909134, Probability class fake as real: 0.9930740573909134\n",
      "Epoch  10/30, Cost: -0.9949226323515177, Probability class fake as real: 0.9949226323515177\n",
      "Epoch  15/30, Cost: -0.9960942724719644, Probability class fake as real: 0.9960942724719644\n",
      "Epoch  20/30, Cost: -0.997002832707949, Probability class fake as real: 0.997002832707949\n",
      "Epoch  25/30, Cost: -0.9977047680877149, Probability class fake as real: 0.9977047680877149\n",
      "\n",
      "\n"
     ]
    }
   ],
   "source": [
    "train_discriminator()\n",
    "train_generator()"
   ]
  },
  {
   "cell_type": "code",
   "execution_count": 48,
   "metadata": {},
   "outputs": [
    {
     "output_type": "stream",
     "name": "stdout",
     "text": [
      "Real Bloch vector: [ 4.33602571e-01  6.94913536e-01  2.38418579e-07  6.98950589e-02\n -2.59918928e-01 -7.73610234e-01]\n\nGenerator Bloch vector: [ 0.48519227  0.62164149  0.51228467 -0.2760193  -0.01808187 -0.89870106]\n\nDifference: [0.0515897  0.07327205 0.51228443 0.34591436 0.24183705 0.12509082]\n\nAccuracy: 0.964190445083783\n"
     ]
    }
   ],
   "source": [
    "obs = [qml.PauliX(0), qml.PauliY(0), qml.PauliZ(0), qml.PauliX(1), qml.PauliY(1), qml.PauliZ(1)] # oh this is the observation matrix\n",
    "\n",
    "bloch_vector_real = qml.map(real_data, obs, dev, interface=\"tf\") # These qml.mapped objects are essentially mini-circuits / mini-qnodes. they functionally act this wayl.\n",
    "bloch_vector_generator = qml.map(generator, obs, dev, interface=\"tf\")\n",
    "\n",
    "bloch_vector_realz = bloch_vector_real(phi) # here: you pass phi through the mini-qnode / mini-circuit.\n",
    "bloch_vector_generatorz = bloch_vector_generator(generator_weights) # calling it with a z at the end because adding _2 at the  end is boring. for a lack of better name.\n",
    "\n",
    "difference = np.absolute(bloch_vector_generatorz - bloch_vector_realz)\n",
    "accuracy = difference / (2 * np.pi) # the max rotation is a 2pi rotation\n",
    "\n",
    "# Find the mean of the accuracy\n",
    "average_accuracy = 0\n",
    "for i in range(len(accuracy)):\n",
    "    average_accuracy += accuracy[i]\n",
    "average_accuracy = average_accuracy / len(accuracy)\n",
    "average_accuracy = 1 - average_accuracy\n",
    "\n",
    "print(\"Real Bloch vector: {}\".format(bloch_vector_realz))\n",
    "print('')\n",
    "print(\"Generator Bloch vector: {}\".format(bloch_vector_generatorz))\n",
    "print('')\n",
    "print(\"Difference: {}\".format(difference))\n",
    "print('')\n",
    "print(\"Accuracy: {}\".format(average_accuracy))"
   ]
  },
  {
   "source": [
    "Success would be: the difference for each dimension is less than 0.1.\n",
    "\n",
    "no actually, how that average_accuracy variable should be read is not that it is 96% accurate but that the generated two-qubit-state is within a 4% standard deviation away from the real state.\n",
    "\n",
    "I have x accuracy for discriminator telling the real data is real and x accuracy for the generator being able to pass itself off as real. The output bloch sphere values are just not the same."
   ],
   "cell_type": "markdown",
   "metadata": {}
  },
  {
   "cell_type": "code",
   "execution_count": null,
   "metadata": {},
   "outputs": [],
   "source": []
  },
  {
   "cell_type": "code",
   "execution_count": null,
   "metadata": {},
   "outputs": [],
   "source": []
  }
 ]
}