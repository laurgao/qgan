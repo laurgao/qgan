{
 "metadata": {
  "language_info": {
   "codemirror_mode": {
    "name": "ipython",
    "version": 3
   },
   "file_extension": ".py",
   "mimetype": "text/x-python",
   "name": "python",
   "nbconvert_exporter": "python",
   "pygments_lexer": "ipython3",
   "version": "3.9.0"
  },
  "orig_nbformat": 2,
  "kernelspec": {
   "name": "python390jvsc74a57bd0ac59ebe37160ed0dfa835113d9b8498d9f09ceb179beaac4002f036b9467c963",
   "display_name": "Python 3.9.0 64-bit"
  },
  "metadata": {
   "interpreter": {
    "hash": "ac59ebe37160ed0dfa835113d9b8498d9f09ceb179beaac4002f036b9467c963"
   }
  }
 },
 "nbformat": 4,
 "nbformat_minor": 2,
 "cells": [
  {
   "cell_type": "code",
   "execution_count": 1,
   "metadata": {},
   "outputs": [
    {
     "output_type": "stream",
     "name": "stdout",
     "text": [
      "INFO:tensorflow:Enabling eager execution\n",
      "INFO:tensorflow:Enabling v2 tensorshape\n",
      "INFO:tensorflow:Enabling resource variables\n",
      "INFO:tensorflow:Enabling tensor equality\n",
      "INFO:tensorflow:Enabling control flow v2\n"
     ]
    }
   ],
   "source": [
    "import pennylane as qml\n",
    "import tensorflow as tf\n",
    "from pennylane import numpy as np\n",
    "from matplotlib import pyplot as plt"
   ]
  },
  {
   "cell_type": "code",
   "execution_count": 2,
   "metadata": {},
   "outputs": [],
   "source": [
    "def real_data(phi, **kwargs):\n",
    "    # phi is a list with length 12\n",
    "    qml.Hadamard(wires=0)\n",
    "    qml.CNOT(wires=[0,1])\n",
    "    qml.RX(phi[0], wires=0)\n",
    "    qml.RY(phi[1], wires=0)\n",
    "    qml.RZ(phi[2], wires=0)\n",
    "    qml.RX(phi[3], wires=0)\n",
    "    qml.RY(phi[4], wires=0)\n",
    "    qml.RZ(phi[5], wires=0)\n",
    "    qml.CNOT(wires=[0, 1])\n",
    "    qml.RX(phi[6], wires=1)\n",
    "    qml.RY(phi[7], wires=1)\n",
    "    qml.RZ(phi[8], wires=1)\n",
    "    qml.RX(phi[9], wires=1)\n",
    "    qml.RY(phi[10], wires=1)\n",
    "    qml.RZ(phi[11], wires=1)"
   ]
  },
  {
   "cell_type": "code",
   "execution_count": 3,
   "metadata": {},
   "outputs": [],
   "source": [
    "# Wires 0 and 1 are the 2 qubit state. \n",
    "\n",
    "def generator(w, **kwargs):\n",
    "    qml.Hadamard(wires=0)\n",
    "    qml.CNOT(wires=[0,1])\n",
    "    generator_layer(w[:11])\n",
    "    generator_layer(w[11:22])\n",
    "    generator_layer(w[22:33]) # includes w[22], doesnt include w[33]\n",
    "    qml.RX(w[33], wires=0)\n",
    "    qml.RY(w[34], wires=0)\n",
    "    qml.RZ(w[35], wires=0)\n",
    "    qml.RX(w[36], wires=0)\n",
    "    qml.RY(w[37], wires=0)\n",
    "    qml.RZ(w[38], wires=0)\n",
    "    qml.CNOT(wires=[0, 1])\n",
    "    qml.RX(w[39], wires=1)\n",
    "    qml.RY(w[40], wires=1)\n",
    "    qml.RZ(w[41], wires=1)\n",
    "    qml.RX(w[42], wires=1)\n",
    "    qml.RY(w[43], wires=1)\n",
    "    qml.RZ(w[44], wires=1)\n",
    "\n",
    "def generator_layer(w):\n",
    "    qml.RX(w[0], wires=0)\n",
    "    qml.RX(w[1], wires=1)\n",
    "    qml.RX(w[2], wires=2)\n",
    "    qml.RX(w[3], wires=3)\n",
    "    qml.RZ(w[4], wires=0)\n",
    "    qml.RZ(w[5], wires=1)\n",
    "    qml.RZ(w[6], wires=2)\n",
    "    qml.RZ(w[7], wires=3)\n",
    "    qml.MultiRZ(w[8], wires=[0, 1])\n",
    "    qml.MultiRZ(w[9], wires=[2, 3])\n",
    "    qml.MultiRZ(w[10], wires=[1, 2])\n",
    "    # 11 weights"
   ]
  },
  {
   "cell_type": "code",
   "execution_count": 4,
   "metadata": {},
   "outputs": [],
   "source": [
    "# the discriminator acts on wires 0, 1, and 4\n",
    "\n",
    "def discriminator_layer(w, **kwargs):\n",
    "    qml.Hadamard(wires=0)\n",
    "    qml.CNOT(wires=[0,1])\n",
    "    qml.RX(w[0], wires=0)\n",
    "    qml.RX(w[1], wires=1)\n",
    "    qml.RX(w[2], wires=4)\n",
    "    qml.RZ(w[3], wires=0)\n",
    "    qml.RZ(w[4], wires=1)\n",
    "    qml.RZ(w[5], wires=4)\n",
    "    qml.MultiRZ(w[6], wires=[0, 1])\n",
    "    qml.MultiRZ(w[7], wires=[1, 4])\n",
    "\n",
    "def discriminator(w, **kwargs):\n",
    "    discriminator_layer(w[:8])\n",
    "    discriminator_layer(w[8:16]) \n",
    "    discriminator_layer(w[16:32])\n",
    "    qml.RX(w[32], wires=4)\n",
    "    qml.RY(w[33], wires=4)\n",
    "    qml.RZ(w[34], wires=4)"
   ]
  },
  {
   "cell_type": "code",
   "execution_count": 5,
   "metadata": {},
   "outputs": [],
   "source": [
    "num_wires = 5\n",
    "dev = qml.device('cirq.simulator', wires=num_wires)"
   ]
  },
  {
   "cell_type": "code",
   "execution_count": 6,
   "metadata": {},
   "outputs": [],
   "source": [
    "@qml.qnode(dev, interface='tf')\n",
    "def real_discriminator(phi, discriminator_weights):\n",
    "    real_data(phi)\n",
    "    discriminator(discriminator_weights)\n",
    "    return qml.expval(qml.PauliZ(4))\n",
    "\n",
    "@qml.qnode(dev, interface='tf')\n",
    "def generator_discriminator(generator_weights, discriminator_weights):\n",
    "    generator(generator_weights)\n",
    "    discriminator(discriminator_weights)\n",
    "    return qml.expval(qml.PauliZ(4))"
   ]
  },
  {
   "cell_type": "code",
   "execution_count": 7,
   "metadata": {},
   "outputs": [],
   "source": [
    "def probability_real_real(discriminator_weights):\n",
    "    # probability of guessing real data as real\n",
    "    discriminator_output = real_discriminator(phi, discriminator_weights) # the output of the discriminator classifying the data as real\n",
    "    probability_real_real = (discriminator_output + 1) / 2\n",
    "    return probability_real_real\n",
    "\n",
    "def probability_fake_real(generator_weights, discriminator_weights):\n",
    "    # probability of guessing real fake as real\n",
    "    # incorrect classification\n",
    "    discriminator_output = generator_discriminator(generator_weights, discriminator_weights)\n",
    "    probability_fake_real = (discriminator_output + 1) / 2\n",
    "    return probability_fake_real\n",
    "       \n",
    "def discriminator_cost(discriminator_weights):\n",
    "    accuracy = probability_real_real(discriminator_weights) - probability_fake_real(generator_weights, discriminator_weights)\n",
    "    # accuracy = correct classification - incorrect classification\n",
    "    cost = -accuracy    \n",
    "    return cost\n",
    "\n",
    "def generator_cost(generator_weights):\n",
    "    accuracy = probability_fake_real(generator_weights, discriminator_weights)\n",
    "    # accuracy = probability that the generator fools the discriminator\n",
    "    cost = -accuracy\n",
    "    return cost"
   ]
  },
  {
   "source": [
    "# variables\n",
    "phi = [np.pi] * 12\n",
    "for i in range(len(phi)):\n",
    "    phi[i] = phi[i] / np.random.randint(2, 11)\n",
    "num_epochs = 30\n",
    "eps = 1 \n",
    "\n",
    "initial_generator_weights = np.array([np.pi] + [0] * 44) + \\\n",
    "    np.random.normal(scale=eps, size=(45,))\n",
    "initial_discriminator_weights = np.random.normal(scale=eps, size=(35,))\n",
    "\n",
    "generator_weights = tf.Variable(initial_generator_weights)\n",
    "discriminator_weights = tf.Variable(initial_discriminator_weights)"
   ],
   "cell_type": "code",
   "metadata": {},
   "execution_count": 8,
   "outputs": []
  },
  {
   "source": [
    "Irrelevant question: where does the name 'eps' come from? epsilon?"
   ],
   "cell_type": "markdown",
   "metadata": {}
  },
  {
   "cell_type": "code",
   "execution_count": 9,
   "metadata": {},
   "outputs": [
    {
     "output_type": "stream",
     "name": "stdout",
     "text": [
      "35\n",
      "\n",
      "Cost: -0.0034253858029842377\n",
      "\n",
      "Probability classify real as real:  0.5809671878814697\n",
      "\n",
      "Probability classify fake as real:  0.07850005850195885\n"
     ]
    }
   ],
   "source": [
    "# Let's run some tests first to make sure ur circuitry works.\n",
    "# print(initial_discriminator_weights)\n",
    "print(len(initial_discriminator_weights))\n",
    "print('\\nCost:', discriminator_cost(discriminator_weights).numpy())\n",
    "print('\\nProbability classify real as real: ', probability_real_real(generator_weights).numpy())\n",
    "print('\\nProbability classify fake as real: ', probability_fake_real(generator_weights, discriminator_weights).numpy())"
   ]
  },
  {
   "cell_type": "code",
   "execution_count": 10,
   "metadata": {},
   "outputs": [],
   "source": [
    "opt = tf.keras.optimizers.SGD(0.4) # 0.4 is lr?"
   ]
  },
  {
   "cell_type": "code",
   "execution_count": 16,
   "metadata": {
    "tags": []
   },
   "outputs": [],
   "source": [
    "def train_discriminator():\n",
    "    for epoch in range(num_epochs):\n",
    "        cost = lambda: discriminator_cost(discriminator_weights) \n",
    "        # you need lambda because discriminator weights is a tensorflow object\n",
    "        opt.minimize(cost, discriminator_weights)\n",
    "        if epoch % 5 == 0:\n",
    "            cost_val = discriminator_cost(discriminator_weights).numpy()\n",
    "            print('Epoch  {}/{}, Cost: {}, Probability class real as real: {}'.format(epoch, num_epochs, cost_val, probability_real_real(discriminator_weights).numpy()))\n",
    "        if epoch == num_epochs - 1:\n",
    "            print('\\n')\n",
    "\n",
    "def train_generator():\n",
    "    for epoch in range(num_epochs):\n",
    "        cost = lambda: generator_cost(generator_weights)\n",
    "        opt.minimize(cost, generator_weights)\n",
    "        if epoch % 5 == 0:\n",
    "            cost_val = generator_cost(generator_weights).numpy()\n",
    "            print('Epoch  {}/{}, Cost: {}, Probability class fake as real: {}'.format(epoch, num_epochs, cost_val, probability_fake_real(generator_weights, discriminator_weights).numpy()))\n",
    "        if epoch == num_epochs - 1:\n",
    "            print('\\n')"
   ]
  },
  {
   "cell_type": "code",
   "execution_count": 17,
   "metadata": {},
   "outputs": [
    {
     "output_type": "stream",
     "name": "stdout",
     "text": [
      "Epoch  0/30, Cost: -0.14299175143241882, Probability class real as real: 0.7159662395715714\n",
      "Epoch  5/30, Cost: -0.16198615729808807, Probability class real as real: 0.6768261790275574\n",
      "Epoch  10/30, Cost: -0.1782488077878952, Probability class real as real: 0.6543751358985901\n",
      "Epoch  15/30, Cost: -0.1930706650018692, Probability class real as real: 0.6391105055809021\n",
      "Epoch  20/30, Cost: -0.20613813400268555, Probability class real as real: 0.6282232850790024\n",
      "Epoch  25/30, Cost: -0.2171032577753067, Probability class real as real: 0.6213741898536682\n",
      "\n",
      "\n",
      "Epoch  0/30, Cost: -0.8329757153987885, Probability class fake as real: 0.8329757153987885\n",
      "Epoch  5/30, Cost: -0.9646678753197193, Probability class fake as real: 0.9646678753197193\n",
      "Epoch  10/30, Cost: -0.9865575945004821, Probability class fake as real: 0.9865575945004821\n",
      "Epoch  15/30, Cost: -0.9927986208349466, Probability class fake as real: 0.9927986208349466\n",
      "Epoch  20/30, Cost: -0.994613244663924, Probability class fake as real: 0.994613244663924\n",
      "Epoch  25/30, Cost: -0.9951627007685602, Probability class fake as real: 0.9951627007685602\n",
      "\n",
      "\n"
     ]
    }
   ],
   "source": [
    "train_discriminator()\n",
    "train_generator()"
   ]
  },
  {
   "cell_type": "code",
   "execution_count": 18,
   "metadata": {},
   "outputs": [
    {
     "output_type": "execute_result",
     "data": {
      "text/plain": [
       "0.9953168514184654"
      ]
     },
     "metadata": {},
     "execution_count": 18
    }
   ],
   "source": [
    "probability_fake_real(generator_weights, discriminator_weights).numpy()"
   ]
  },
  {
   "cell_type": "code",
   "execution_count": 19,
   "metadata": {},
   "outputs": [
    {
     "output_type": "stream",
     "name": "stdout",
     "text": [
      "Optimized discriminator weights\n [ 0.98678342 -0.43386663 -3.17111064  0.62260856  0.04342849  1.18291196\n -0.66513935 -1.21946626 -0.61854902 -1.01444608 -1.0025097  -0.06969379\n -0.11627456 -0.41911874 -0.62422002 -1.31842536  1.15465123  1.00688048\n -1.0759944  -1.20182703 -1.72498971 -0.15707318 -0.20518432  1.28586628\n  1.59499949  1.35754469 -0.29718026 -1.24335632  1.57450562  0.97803845\n -0.34603064 -1.23144904  0.25517454 -1.42773793 -0.8975334 ]\n\nInitial discriminator weights\n [ 0.98573627  0.65247181 -2.58823669  0.33964008 -0.87467339  0.92639282\n  0.29698666 -0.36662934 -0.24270254 -0.2329808  -0.21704927  0.20564283\n  0.0291995  -0.35253556 -0.49546954 -1.03084089  1.15465116  0.0640773\n -0.57206129 -1.20182703 -1.72498971 -0.21045368 -0.20518432  0.36111367\n  1.59499949  1.35754469 -0.29718026 -1.24335632  1.57450562  0.97803845\n -0.34603064 -1.23144904  0.43664528 -0.50552278 -0.8975334 ]\n"
     ]
    }
   ],
   "source": [
    "print('Optimized discriminator weights\\n', discriminator_weights.numpy())\n",
    "print('\\nInitial discriminator weights\\n', initial_discriminator_weights)"
   ]
  },
  {
   "cell_type": "code",
   "execution_count": 18,
   "metadata": {},
   "outputs": [
    {
     "output_type": "execute_result",
     "data": {
      "text/plain": [
       "0.40479376912117004"
      ]
     },
     "metadata": {},
     "execution_count": 18
    }
   ],
   "source": [
    "probability_fake_real(generator_weights, discriminator_weights).numpy()"
   ]
  },
  {
   "cell_type": "code",
   "execution_count": 21,
   "metadata": {},
   "outputs": [
    {
     "output_type": "stream",
     "name": "stdout",
     "text": [
      "[ 3.90072086  0.90251517 -0.13497327 -0.9437307  -0.94730294  0.31199351\n -0.12415583 -1.26854345  0.29861301  2.00666326 -0.52638961 -1.02011791\n  0.29098029 -1.24092841 -1.07395566  1.20113425 -0.60783449  1.81911011\n  0.61488274 -0.2907043   0.27982617 -0.03171077  0.26173261  0.60752268\n  1.10215144 -0.64240859  1.6822554  -0.01451248 -0.72422779  1.9995518\n  0.55065701  2.8719099   0.03269038  1.68317262 -0.68062882  0.08401542\n -0.39987624 -0.18922004  1.85128989  1.06970315 -0.17565118  1.4433243\n  0.54675685 -0.65416197  1.16924939]\ninit weights [ 3.87981050e+00  8.81604932e-01 -3.98517665e-01 -1.09227004e+00\n -1.43638646e+00  4.04968952e-02 -1.22335310e-01 -1.25580752e+00\n  2.47595235e-01  1.89992169e+00 -9.35276970e-01 -9.93772849e-01\n -4.55457349e-02 -1.16198079e+00 -1.09638298e+00  9.12977741e-01\n -8.93065433e-01  1.82040040e+00  6.14882636e-01  2.64336199e-03\n  3.06362859e-01 -5.16343454e-01  6.37671246e-01  4.10499432e-01\n  1.14176107e+00 -6.42408602e-01  1.36818820e+00 -1.47550531e-01\n -7.24227786e-01  1.99955180e+00  6.54554633e-01  2.87190990e+00\n -5.60216806e-01  1.47104204e+00 -3.72671058e-01  2.49629322e-01\n -7.97966675e-01  8.08290834e-02  1.79543359e+00  1.09676767e+00\n -2.39121785e-01  1.39452128e+00  6.21406213e-01 -6.04790180e-01\n  1.19022358e+00]\n"
     ]
    }
   ],
   "source": [
    "print(generator_weights.numpy())\n",
    "print('init weights', initial_generator_weights)"
   ]
  },
  {
   "cell_type": "code",
   "execution_count": 25,
   "metadata": {},
   "outputs": [
    {
     "output_type": "stream",
     "name": "stdout",
     "text": [
      "Real Bloch vector: [ 4.33602571e-01  6.94913536e-01  2.38418579e-07  6.98950589e-02\n",
      " -2.59918928e-01 -7.73610234e-01]\n",
      "Generator Bloch vector: [ 0.59286116  0.34908998  0.59910861 -0.57154025  0.25374156 -0.66421711]\n"
     ]
    }
   ],
   "source": [
    "obs = [qml.PauliX(0), qml.PauliY(0), qml.PauliZ(0), qml.PauliX(1), qml.PauliY(1), qml.PauliZ(1)] # oh this is the observation matrix\n",
    "\n",
    "bloch_vector_real = qml.map(real_data, obs, dev, interface=\"tf\")\n",
    "bloch_vector_generator = qml.map(generator, obs, dev, interface=\"tf\")\n",
    "\n",
    "print(\"Real Bloch vector: {}\".format(bloch_vector_real(phi)))\n",
    "print(\"Generator Bloch vector: {}\".format(bloch_vector_generator(generator_weights)))\n",
    "\n",
    "# print('\\n', generator_weights.numpy())\n",
    "# print(phi)"
   ]
  },
  {
   "cell_type": "code",
   "execution_count": 23,
   "metadata": {},
   "outputs": [
    {
     "output_type": "stream",
     "name": "stdout",
     "text": [
      "[ 2.38418579e-07 -7.73610234e-01]\n[ 0.59910861 -0.66421711]\n"
     ]
    }
   ],
   "source": [
    "@qml.qnode(dev)\n",
    "def real_circuit(phi, **kwargs):\n",
    "    real_data(phi)\n",
    "    return qml.expval(qml.PauliZ(0)), qml.expval(qml.PauliZ(1))\n",
    "print(real_circuit(phi))\n",
    "\n",
    "@qml.qnode(dev)\n",
    "def generator_circuit(generator_weights, **kwargs):\n",
    "    generator(generator_weights)\n",
    "    return qml.expval(qml.PauliZ(0)), qml.expval(qml.PauliZ(1))\n",
    "print(generator_circuit(generator_weights))"
   ]
  },
  {
   "cell_type": "code",
   "execution_count": null,
   "metadata": {},
   "outputs": [],
   "source": []
  },
  {
   "cell_type": "code",
   "execution_count": null,
   "metadata": {},
   "outputs": [],
   "source": []
  },
  {
   "cell_type": "code",
   "execution_count": null,
   "metadata": {},
   "outputs": [],
   "source": []
  }
 ]
}