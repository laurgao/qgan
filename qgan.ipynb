{
 "metadata": {
  "language_info": {
   "codemirror_mode": {
    "name": "ipython",
    "version": 3
   },
   "file_extension": ".py",
   "mimetype": "text/x-python",
   "name": "python",
   "nbconvert_exporter": "python",
   "pygments_lexer": "ipython3",
   "version": "3.9.0"
  },
  "orig_nbformat": 2,
  "kernelspec": {
   "name": "python390jvsc74a57bd0ac59ebe37160ed0dfa835113d9b8498d9f09ceb179beaac4002f036b9467c963",
   "display_name": "Python 3.9.0 64-bit"
  },
  "metadata": {
   "interpreter": {
    "hash": "ac59ebe37160ed0dfa835113d9b8498d9f09ceb179beaac4002f036b9467c963"
   }
  }
 },
 "nbformat": 4,
 "nbformat_minor": 2,
 "cells": [
  {
   "cell_type": "code",
   "execution_count": 1,
   "metadata": {},
   "outputs": [
    {
     "output_type": "stream",
     "name": "stdout",
     "text": [
      "INFO:tensorflow:Enabling eager execution\n",
      "INFO:tensorflow:Enabling v2 tensorshape\n",
      "INFO:tensorflow:Enabling resource variables\n",
      "INFO:tensorflow:Enabling tensor equality\n",
      "INFO:tensorflow:Enabling control flow v2\n"
     ]
    }
   ],
   "source": [
    "import pennylane as qml\n",
    "import numpy as np\n",
    "import tensorflow as tf"
   ]
  },
  {
   "cell_type": "code",
   "execution_count": 3,
   "metadata": {},
   "outputs": [],
   "source": [
    "dev = qml.device('cirq.simulator', wires=3)"
   ]
  },
  {
   "cell_type": "code",
   "execution_count": 4,
   "metadata": {},
   "outputs": [],
   "source": [
    "def real(angles, **kwargs):\n",
    "    qml.Hadamard(wires=0)\n",
    "    qml.Rot(*angles, wires=0)"
   ]
  },
  {
   "cell_type": "code",
   "execution_count": 64,
   "metadata": {},
   "outputs": [],
   "source": [
    "def generator(w, **kwargs): # what does kwargs do\n",
    "    qml.Hadamard(wires=0)\n",
    "    qml.RX(w[0], wires=0)\n",
    "    qml.RX(w[1], wires=1)\n",
    "    qml.RY(w[2], wires=0)\n",
    "    qml.RY(w[3], wires=1)\n",
    "    qml.RZ(w[4], wires=0)\n",
    "    qml.RZ(w[5], wires=1)\n",
    "    qml.CNOT(wires=[0, 1])\n",
    "    qml.RX(w[6], wires=0)\n",
    "    qml.RY(w[7], wires=0)\n",
    "    qml.RZ(w[8], wires=0)\n",
    "\n",
    "def discriminator(w):\n",
    "    qml.Hadamard(wires=0)\n",
    "    qml.RX(w[0], wires=0)\n",
    "    qml.RX(w[1], wires=2)\n",
    "    qml.RY(w[2], wires=0)\n",
    "    qml.RY(w[3], wires=2)\n",
    "    qml.RZ(w[4], wires=0)\n",
    "    qml.RZ(w[5], wires=2)\n",
    "    qml.CNOT(wires=[0, 2])\n",
    "    qml.RX(w[6], wires=2)\n",
    "    qml.RY(w[7], wires=2)\n",
    "    qml.RZ(w[8], wires=2)"
   ]
  },
  {
   "cell_type": "code",
   "execution_count": 65,
   "metadata": {},
   "outputs": [],
   "source": [
    "@qml.qnode(dev, interface='tf')\n",
    "def real_disc_circuit(phi, theta, omega, disc_weights):\n",
    "    # what are these varaibles?\n",
    "    # phi, theta, and omega are the real rotational values\n",
    "    # disc_weights are discriminator weights\n",
    "    real([phi, theta, omega])\n",
    "    discriminator(disc_weights)\n",
    "    return qml.expval(qml.PauliZ(2)) # measure the expval of wire 2 in the z basis, the discriminator guess of wehther it's real or not\n",
    "\n",
    "@qml.qnode(dev, interface='tf')\n",
    "def gen_disc_circuit(gen_weights, disc_weights):\n",
    "    generator(gen_weights)\n",
    "    discriminator(disc_weights)\n",
    "    return qml.expval(qml.PauliZ(2)) #same: return discriminator guess"
   ]
  },
  {
   "cell_type": "code",
   "execution_count": 87,
   "metadata": {},
   "outputs": [],
   "source": [
    "def prob_real_true(disc_weights):\n",
    "    true_disc_output = real_disc_circuit(phi, theta, omega, disc_weights)\n",
    "\n",
    "    # why does this convert into probability?\n",
    "    prob_real_true = (true_disc_output + 1) / 2\n",
    "    print('Circuit output expval: {} Probability that the generator classifies it as real {}'.format(true_disc_output, prob_real_true))\n",
    "    return prob_real_true\n",
    "\n",
    "def prob_fake_true(gen_weights, disc_weights):\n",
    "    fake_disc_output = gen_disc_circuit(gen_weights, disc_weights)\n",
    "    prob_fake_true = (fake_disc_output + 1 ) / 2\n",
    "    return prob_fake_true\n",
    "\n",
    "def gen_cost(gen_weights):\n",
    "    cost = -prob_fake_true(gen_weights, disc_weights)\n",
    "    return cost\n",
    "\n",
    "def disc_cost(disc_weights):\n",
    "    cost = prob_fake_true(gen_weights, disc_weights) - prob_real_true(disc_weights)\n",
    "    return cost "
   ]
  },
  {
   "cell_type": "code",
   "execution_count": 105,
   "metadata": {},
   "outputs": [
    {
     "output_type": "stream",
     "name": "stdout",
     "text": [
      "[ 3.15923318e+00  4.00157208e-03  9.78737984e-03  2.24089320e-02\n  1.86755799e-02 -9.77277880e-03  9.50088418e-03 -1.51357208e-03\n -1.03218852e-03] [ 0.4105985   0.14404357  1.45427351  0.76103773  0.12167502  0.44386323\n  0.33367433  1.49407907 -0.20515826] <tf.Variable 'Variable:0' shape=(9,) dtype=float64, numpy=\narray([ 3.15923318e+00,  4.00157208e-03,  9.78737984e-03,  2.24089320e-02,\n        1.86755799e-02, -9.77277880e-03,  9.50088418e-03, -1.51357208e-03,\n       -1.03218852e-03])>\n<class 'numpy.ndarray'> <class 'tensorflow.python.ops.resource_variable_ops.ResourceVariable'>\n3.1592331770494697\ntf.Tensor(3.1592331770494697, shape=(), dtype=float64)\n"
     ]
    }
   ],
   "source": [
    "phi = np.pi/6\n",
    "theta = np.pi/2\n",
    "omega = np.pi/7\n",
    "np.random.seed(0)\n",
    "eps = 1e-2\n",
    "init_gen_weights = np.array([np.pi] + [0] * 8) + \\\n",
    "                   np.random.normal(scale=eps, size=(9,))\n",
    "init_disc_weights = np.random.normal(size=(9,))\n",
    "\n",
    "gen_weights = tf.Variable(init_gen_weights)\n",
    "disc_weights = tf.Variable(init_disc_weights)\n",
    "# gen_weights = init_gen_weights\n",
    "# disc_weights = init_disc_weights\n",
    "print(init_gen_weights, init_disc_weights, gen_weights)\n",
    "print(type(init_gen_weights), type(gen_weights))\n",
    "print(gen_weights[0].numpy())\n",
    "print(gen_weights[0])"
   ]
  },
  {
   "cell_type": "code",
   "execution_count": 102,
   "metadata": {},
   "outputs": [],
   "source": [
    "opt = tf.keras.optimizers.SGD(0.4)"
   ]
  },
  {
   "cell_type": "code",
   "execution_count": 90,
   "metadata": {},
   "outputs": [
    {
     "output_type": "stream",
     "name": "stdout",
     "text": [
      "Circuit output expval: -0.6303413510322571 Probability that the generator classifies it as real 0.18482932448387146\n",
      "Circuit output expval: -0.542709693312645 Probability that the generator classifies it as real 0.22864515334367752\n",
      "Step 0: cost = -0.05727687478065491\n",
      "Circuit output expval: -0.542709693312645 Probability that the generator classifies it as real 0.22864515334367752\n",
      "Prob(real classified as real): 0.22864515334367752\n",
      "Prob(fake classified as real): 0.1713682785630226\n",
      "Circuit output expval: -0.542709693312645 Probability that the generator classifies it as real 0.22864515334367752\n",
      "Circuit output expval: -0.4338969588279724 Probability that the generator classifies it as real 0.2830515205860138\n",
      "Circuit output expval: -0.30347228050231934 Probability that the generator classifies it as real 0.34826385974884033\n",
      "Circuit output expval: -0.15359419584274292 Probability that the generator classifies it as real 0.42320290207862854\n",
      "Circuit output expval: 0.010194838047027588 Probability that the generator classifies it as real 0.5050974190235138\n",
      "Circuit output expval: 0.1790025234222412 Probability that the generator classifies it as real 0.5895012617111206\n",
      "Step 5: cost = -0.26348111033439636\n",
      "Circuit output expval: 0.1790025234222412 Probability that the generator classifies it as real 0.5895012617111206\n",
      "Prob(real classified as real): 0.5895012617111206\n",
      "Prob(fake classified as real): 0.32602015137672424\n",
      "Circuit output expval: 0.1790025234222412 Probability that the generator classifies it as real 0.5895012617111206\n",
      "Circuit output expval: 0.34198832511901855 Probability that the generator classifies it as real 0.6709941625595093\n",
      "Circuit output expval: 0.4889416992664337 Probability that the generator classifies it as real 0.7444708496332169\n",
      "Circuit output expval: 0.6128856986761093 Probability that the generator classifies it as real 0.8064428493380547\n",
      "Circuit output expval: 0.7113341689109802 Probability that the generator classifies it as real 0.8556670844554901\n",
      "Circuit output expval: 0.7857600301504135 Probability that the generator classifies it as real 0.8928800150752068\n",
      "Step 10: cost = -0.4273917004466057\n",
      "Circuit output expval: 0.7857600301504135 Probability that the generator classifies it as real 0.8928800150752068\n",
      "Prob(real classified as real): 0.8928800150752068\n",
      "Prob(fake classified as real): 0.4654883146286011\n",
      "Circuit output expval: 0.7857600301504135 Probability that the generator classifies it as real 0.8928800150752068\n",
      "Circuit output expval: 0.8399849832057953 Probability that the generator classifies it as real 0.9199924916028976\n",
      "Circuit output expval: 0.8785480931401253 Probability that the generator classifies it as real 0.9392740465700626\n",
      "Circuit output expval: 0.9056411981582642 Probability that the generator classifies it as real 0.9528205990791321\n",
      "Circuit output expval: 0.9246521294116974 Probability that the generator classifies it as real 0.9623260647058487\n",
      "Circuit output expval: 0.9381089359521866 Probability that the generator classifies it as real 0.9690544679760933\n",
      "Step 15: cost = -0.47261590510606766\n",
      "Circuit output expval: 0.9381089359521866 Probability that the generator classifies it as real 0.9690544679760933\n",
      "Prob(real classified as real): 0.9690544679760933\n",
      "Prob(fake classified as real): 0.49643856287002563\n",
      "Circuit output expval: 0.9381089359521866 Probability that the generator classifies it as real 0.9690544679760933\n",
      "Circuit output expval: 0.9478042963892221 Probability that the generator classifies it as real 0.9739021481946111\n",
      "Circuit output expval: 0.9549688994884491 Probability that the generator classifies it as real 0.9774844497442245\n",
      "Circuit output expval: 0.9604299683123827 Probability that the generator classifies it as real 0.9802149841561913\n",
      "Circuit output expval: 0.9647353794425726 Probability that the generator classifies it as real 0.9823676897212863\n",
      "Circuit output expval: 0.9682464376091957 Probability that the generator classifies it as real 0.9841232188045979\n",
      "Step 20: cost = -0.48406896367669106\n",
      "Circuit output expval: 0.9682464376091957 Probability that the generator classifies it as real 0.9841232188045979\n",
      "Prob(real classified as real): 0.9841232188045979\n",
      "Prob(fake classified as real): 0.5000542551279068\n",
      "Circuit output expval: 0.9682464376091957 Probability that the generator classifies it as real 0.9841232188045979\n",
      "Circuit output expval: 0.9711978612467647 Probability that the generator classifies it as real 0.9855989306233823\n",
      "Circuit output expval: 0.9737440133467317 Probability that the generator classifies it as real 0.9868720066733658\n",
      "Circuit output expval: 0.9759859004989266 Probability that the generator classifies it as real 0.9879929502494633\n",
      "Circuit output expval: 0.9779904559254646 Probability that the generator classifies it as real 0.9889952279627323\n",
      "Circuit output expval: 0.9798019584268332 Probability that the generator classifies it as real 0.9899009792134166\n",
      "Step 25: cost = -0.48946382384747267\n",
      "Circuit output expval: 0.9798019584268332 Probability that the generator classifies it as real 0.9899009792134166\n",
      "Prob(real classified as real): 0.9899009792134166\n",
      "Prob(fake classified as real): 0.5004371553659439\n",
      "Circuit output expval: 0.9798019584268332 Probability that the generator classifies it as real 0.9899009792134166\n",
      "Circuit output expval: 0.9814507132396102 Probability that the generator classifies it as real 0.9907253566198051\n",
      "Circuit output expval: 0.9829594977200031 Probability that the generator classifies it as real 0.9914797488600016\n",
      "Circuit output expval: 0.9843424260616302 Probability that the generator classifies it as real 0.9921712130308151\n",
      "Circuit output expval: 0.9856127821840346 Probability that the generator classifies it as real 0.9928063910920173\n",
      "Circuit output expval: 0.9867806471884251 Probability that the generator classifies it as real 0.9933903235942125\n",
      "Step 30: cost = -0.49281889386475086\n",
      "Circuit output expval: 0.9867806471884251 Probability that the generator classifies it as real 0.9933903235942125\n",
      "Prob(real classified as real): 0.9933903235942125\n",
      "Prob(fake classified as real): 0.5005714297294617\n",
      "Circuit output expval: 0.9867806471884251 Probability that the generator classifies it as real 0.9933903235942125\n",
      "Circuit output expval: 0.9878533496521413 Probability that the generator classifies it as real 0.9939266748260707\n",
      "Circuit output expval: 0.9888387550599873 Probability that the generator classifies it as real 0.9944193775299937\n",
      "Circuit output expval: 0.9897439130581915 Probability that the generator classifies it as real 0.9948719565290958\n",
      "Circuit output expval: 0.9905742513947189 Probability that the generator classifies it as real 0.9952871256973594\n",
      "Circuit output expval: 0.9913366450928152 Probability that the generator classifies it as real 0.9956683225464076\n",
      "Step 35: cost = -0.4949494309257716\n",
      "Circuit output expval: 0.9913366450928152 Probability that the generator classifies it as real 0.9956683225464076\n",
      "Prob(real classified as real): 0.9956683225464076\n",
      "Prob(fake classified as real): 0.500718891620636\n",
      "Circuit output expval: 0.9913366450928152 Probability that the generator classifies it as real 0.9956683225464076\n",
      "Circuit output expval: 0.9920343249104917 Probability that the generator classifies it as real 0.9960171624552459\n",
      "Circuit output expval: 0.9926736464258283 Probability that the generator classifies it as real 0.9963368232129142\n",
      "Circuit output expval: 0.9932586948852986 Probability that the generator classifies it as real 0.9966293474426493\n",
      "Circuit output expval: 0.9937941946554929 Probability that the generator classifies it as real 0.9968970973277465\n",
      "Circuit output expval: 0.9942839634604752 Probability that the generator classifies it as real 0.9971419817302376\n",
      "Step 40: cost = -0.49627021909691393\n",
      "Circuit output expval: 0.9942839634604752 Probability that the generator classifies it as real 0.9971419817302376\n",
      "Prob(real classified as real): 0.9971419817302376\n",
      "Prob(fake classified as real): 0.5008717626333237\n",
      "Circuit output expval: 0.9942839634604752 Probability that the generator classifies it as real 0.9971419817302376\n",
      "Circuit output expval: 0.9947318357881159 Probability that the generator classifies it as real 0.9973659178940579\n",
      "Circuit output expval: 0.9951411366928369 Probability that the generator classifies it as real 0.9975705683464184\n",
      "Circuit output expval: 0.9955161337275058 Probability that the generator classifies it as real 0.9977580668637529\n",
      "Circuit output expval: 0.9958578143268824 Probability that the generator classifies it as real 0.9979289071634412\n",
      "Circuit output expval: 0.9961701086722314 Probability that the generator classifies it as real 0.9980850543361157\n",
      "Step 45: cost = -0.49707187968306243\n",
      "Circuit output expval: 0.9961701086722314 Probability that the generator classifies it as real 0.9980850543361157\n",
      "Prob(real classified as real): 0.9980850543361157\n",
      "Prob(fake classified as real): 0.5010131746530533\n",
      "Circuit output expval: 0.9961701086722314 Probability that the generator classifies it as real 0.9980850543361157\n",
      "Circuit output expval: 0.9964560265652835 Probability that the generator classifies it as real 0.9982280132826418\n",
      "Circuit output expval: 0.9967171518364921 Probability that the generator classifies it as real 0.9983585759182461\n",
      "Circuit output expval: 0.9969560386380181 Probability that the generator classifies it as real 0.998478019319009\n"
     ]
    }
   ],
   "source": [
    "cost = lambda: disc_cost(disc_weights)\n",
    "\n",
    "for step in range(50):\n",
    "    opt.minimize(cost, disc_weights)\n",
    "    if step % 5 == 0:\n",
    "        cost_val = cost().numpy()\n",
    "        print(\"Step {}: cost = {}\".format(step, cost_val))\n",
    "        print(\"Prob(real classified as real):\", prob_real_true(disc_weights).numpy())\n",
    "        print(\"Prob(fake classified as real):\", prob_fake_true(gen_weights, disc_weights).numpy())"
   ]
  },
  {
   "cell_type": "code",
   "execution_count": 103,
   "metadata": {},
   "outputs": [
    {
     "output_type": "stream",
     "name": "stdout",
     "text": [
      "Circuit output expval: -0.6303413510322571 Probability that the generator classifies it as real 0.18482932448387146\n"
     ]
    },
    {
     "output_type": "error",
     "ename": "ValueError",
     "evalue": "`tape` is required when a `Tensor` loss is passed.",
     "traceback": [
      "\u001b[1;31m---------------------------------------------------------------------------\u001b[0m",
      "\u001b[1;31mValueError\u001b[0m                                Traceback (most recent call last)",
      "\u001b[1;32m<ipython-input-103-942c18d033b0>\u001b[0m in \u001b[0;36m<module>\u001b[1;34m\u001b[0m\n\u001b[0;32m      2\u001b[0m \u001b[1;33m\u001b[0m\u001b[0m\n\u001b[0;32m      3\u001b[0m \u001b[1;32mfor\u001b[0m \u001b[0mstep\u001b[0m \u001b[1;32min\u001b[0m \u001b[0mrange\u001b[0m\u001b[1;33m(\u001b[0m\u001b[1;36m50\u001b[0m\u001b[1;33m)\u001b[0m\u001b[1;33m:\u001b[0m\u001b[1;33m\u001b[0m\u001b[1;33m\u001b[0m\u001b[0m\n\u001b[1;32m----> 4\u001b[1;33m     \u001b[0mopt\u001b[0m\u001b[1;33m.\u001b[0m\u001b[0mminimize\u001b[0m\u001b[1;33m(\u001b[0m\u001b[0mcost\u001b[0m\u001b[1;33m,\u001b[0m \u001b[0mdisc_weights\u001b[0m\u001b[1;33m)\u001b[0m\u001b[1;33m\u001b[0m\u001b[1;33m\u001b[0m\u001b[0m\n\u001b[0m\u001b[0;32m      5\u001b[0m     \u001b[1;32mif\u001b[0m \u001b[0mstep\u001b[0m \u001b[1;33m%\u001b[0m \u001b[1;36m5\u001b[0m \u001b[1;33m==\u001b[0m \u001b[1;36m0\u001b[0m\u001b[1;33m:\u001b[0m\u001b[1;33m\u001b[0m\u001b[1;33m\u001b[0m\u001b[0m\n\u001b[0;32m      6\u001b[0m         \u001b[0mcost_val\u001b[0m \u001b[1;33m=\u001b[0m \u001b[0mcost\u001b[0m\u001b[1;33m(\u001b[0m\u001b[1;33m)\u001b[0m\u001b[1;33m\u001b[0m\u001b[1;33m\u001b[0m\u001b[0m\n",
      "\u001b[1;32mC:\\Program Files\\Python39\\lib\\site-packages\\tensorflow\\python\\keras\\optimizer_v2\\optimizer_v2.py\u001b[0m in \u001b[0;36mminimize\u001b[1;34m(self, loss, var_list, grad_loss, name, tape)\u001b[0m\n\u001b[0;32m    526\u001b[0m \u001b[1;33m\u001b[0m\u001b[0m\n\u001b[0;32m    527\u001b[0m     \"\"\"\n\u001b[1;32m--> 528\u001b[1;33m     grads_and_vars = self._compute_gradients(\n\u001b[0m\u001b[0;32m    529\u001b[0m         loss, var_list=var_list, grad_loss=grad_loss, tape=tape)\n\u001b[0;32m    530\u001b[0m     \u001b[1;32mreturn\u001b[0m \u001b[0mself\u001b[0m\u001b[1;33m.\u001b[0m\u001b[0mapply_gradients\u001b[0m\u001b[1;33m(\u001b[0m\u001b[0mgrads_and_vars\u001b[0m\u001b[1;33m,\u001b[0m \u001b[0mname\u001b[0m\u001b[1;33m=\u001b[0m\u001b[0mname\u001b[0m\u001b[1;33m)\u001b[0m\u001b[1;33m\u001b[0m\u001b[1;33m\u001b[0m\u001b[0m\n",
      "\u001b[1;32mC:\\Program Files\\Python39\\lib\\site-packages\\tensorflow\\python\\keras\\optimizer_v2\\optimizer_v2.py\u001b[0m in \u001b[0;36m_compute_gradients\u001b[1;34m(self, loss, var_list, grad_loss, tape)\u001b[0m\n\u001b[0;32m    562\u001b[0m     \u001b[1;31m# TODO(josh11b): Test that we handle weight decay in a reasonable way.\u001b[0m\u001b[1;33m\u001b[0m\u001b[1;33m\u001b[0m\u001b[1;33m\u001b[0m\u001b[0m\n\u001b[0;32m    563\u001b[0m     \u001b[1;32mif\u001b[0m \u001b[1;32mnot\u001b[0m \u001b[0mcallable\u001b[0m\u001b[1;33m(\u001b[0m\u001b[0mloss\u001b[0m\u001b[1;33m)\u001b[0m \u001b[1;32mand\u001b[0m \u001b[0mtape\u001b[0m \u001b[1;32mis\u001b[0m \u001b[1;32mNone\u001b[0m\u001b[1;33m:\u001b[0m\u001b[1;33m\u001b[0m\u001b[1;33m\u001b[0m\u001b[0m\n\u001b[1;32m--> 564\u001b[1;33m       \u001b[1;32mraise\u001b[0m \u001b[0mValueError\u001b[0m\u001b[1;33m(\u001b[0m\u001b[1;34m\"`tape` is required when a `Tensor` loss is passed.\"\u001b[0m\u001b[1;33m)\u001b[0m\u001b[1;33m\u001b[0m\u001b[1;33m\u001b[0m\u001b[0m\n\u001b[0m\u001b[0;32m    565\u001b[0m     \u001b[0mtape\u001b[0m \u001b[1;33m=\u001b[0m \u001b[0mtape\u001b[0m \u001b[1;32mif\u001b[0m \u001b[0mtape\u001b[0m \u001b[1;32mis\u001b[0m \u001b[1;32mnot\u001b[0m \u001b[1;32mNone\u001b[0m \u001b[1;32melse\u001b[0m \u001b[0mbackprop\u001b[0m\u001b[1;33m.\u001b[0m\u001b[0mGradientTape\u001b[0m\u001b[1;33m(\u001b[0m\u001b[1;33m)\u001b[0m\u001b[1;33m\u001b[0m\u001b[1;33m\u001b[0m\u001b[0m\n\u001b[0;32m    566\u001b[0m \u001b[1;33m\u001b[0m\u001b[0m\n",
      "\u001b[1;31mValueError\u001b[0m: `tape` is required when a `Tensor` loss is passed."
     ]
    }
   ],
   "source": [
    "cost = disc_cost(disc_weights)\n",
    "\n",
    "for step in range(50):\n",
    "    opt.minimize(cost, disc_weights)\n",
    "    if step % 5 == 0:\n",
    "        cost_val = cost()\n",
    "        print(\"Step {}: cost = {}\".format(step, cost_val))\n",
    "        print(\"Prob(real classified as real):\", prob_real_true(disc_weights))\n",
    "        print(\"Prob(fake classified as real):\", prob_fake_true(gen_weights, disc_weights))"
   ]
  },
  {
   "cell_type": "code",
   "execution_count": 83,
   "metadata": {},
   "outputs": [
    {
     "output_type": "stream",
     "name": "stdout",
     "text": [
      "Prob(real classified as real): 0.9985871425596997\nProb(fake classified as real): 0.5011128038167953\n"
     ]
    }
   ],
   "source": [
    "print(\"Prob(real classified as real):\", prob_real_true(disc_weights).numpy())\n",
    "print(\"Prob(fake classified as real):\", prob_fake_true(gen_weights, disc_weights).numpy())"
   ]
  },
  {
   "cell_type": "code",
   "execution_count": 84,
   "metadata": {},
   "outputs": [
    {
     "output_type": "stream",
     "name": "stdout",
     "text": [
      "Step 0: cost = -0.5833386033773422\n",
      "Step 5: cost = -0.8915732949972153\n",
      "Step 10: cost = -0.9784244522452354\n",
      "Step 15: cost = -0.9946483590174466\n",
      "Step 20: cost = -0.9984995491686277\n",
      "Step 25: cost = -0.9995636216044659\n",
      "Step 30: cost = -0.9998718172573717\n",
      "Step 35: cost = -0.9999619696027366\n",
      "Step 40: cost = -0.9999888275397097\n",
      "Step 45: cost = -0.999996672290763\n"
     ]
    }
   ],
   "source": [
    "cost = lambda: gen_cost(gen_weights)\n",
    "\n",
    "for step in range(50):\n",
    "    opt.minimize(cost, gen_weights)\n",
    "    if step % 5 == 0:\n",
    "        cost_val = cost().numpy()\n",
    "        print(\"Step {}: cost = {}\".format(step, cost_val))"
   ]
  },
  {
   "cell_type": "code",
   "execution_count": 85,
   "metadata": {},
   "outputs": [
    {
     "output_type": "stream",
     "name": "stdout",
     "text": [
      "0.99999862746688\n"
     ]
    }
   ],
   "source": [
    "print(prob_fake_true(gen_weights, disc_weights).numpy())"
   ]
  },
  {
   "cell_type": "code",
   "execution_count": 108,
   "metadata": {},
   "outputs": [
    {
     "output_type": "stream",
     "name": "stdout",
     "text": [
      "Real Bloch vector: [-0.2169418   0.45048445 -0.86602525]\nGenerator Bloch vector: [ 0.02237707  0.00048757 -0.00974897]\nGenerator weights, the imput to ^ [ 3.15923318e+00  4.00157208e-03  9.78737984e-03  2.24089320e-02\n  1.86755799e-02 -9.77277880e-03  9.50088418e-03 -1.51357208e-03\n -1.03218852e-03]\n"
     ]
    }
   ],
   "source": [
    "obs = [qml.PauliX(0), qml.PauliY(0), qml.PauliZ(0)]\n",
    "\n",
    "bloch_vector_real = qml.map(real, obs, dev, interface=\"tf\")\n",
    "bloch_vector_generator = qml.map(generator, obs, dev, interface=\"tf\")\n",
    "\n",
    "print(\"Real Bloch vector: {}\".format(bloch_vector_real([phi, theta, omega])))\n",
    "print(\"Generator Bloch vector: {}\".format(bloch_vector_generator(gen_weights)))"
   ]
  },
  {
   "cell_type": "code",
   "execution_count": 94,
   "metadata": {},
   "outputs": [
    {
     "output_type": "error",
     "ename": "AttributeError",
     "evalue": "'function' object has no attribute 'numpy'",
     "traceback": [
      "\u001b[1;31m---------------------------------------------------------------------------\u001b[0m",
      "\u001b[1;31mAttributeError\u001b[0m                            Traceback (most recent call last)",
      "\u001b[1;32m<ipython-input-94-a02265b75741>\u001b[0m in \u001b[0;36m<module>\u001b[1;34m\u001b[0m\n\u001b[1;32m----> 1\u001b[1;33m \u001b[0mprint\u001b[0m\u001b[1;33m(\u001b[0m\u001b[0mgen_cost\u001b[0m\u001b[1;33m.\u001b[0m\u001b[0mnumpy\u001b[0m\u001b[1;33m(\u001b[0m\u001b[1;33m)\u001b[0m\u001b[1;33m)\u001b[0m\u001b[1;33m\u001b[0m\u001b[1;33m\u001b[0m\u001b[0m\n\u001b[0m",
      "\u001b[1;31mAttributeError\u001b[0m: 'function' object has no attribute 'numpy'"
     ]
    }
   ],
   "source": []
  },
  {
   "cell_type": "code",
   "execution_count": null,
   "metadata": {},
   "outputs": [],
   "source": []
  }
 ]
}