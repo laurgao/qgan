{
 "metadata": {
  "language_info": {
   "codemirror_mode": {
    "name": "ipython",
    "version": 3
   },
   "file_extension": ".py",
   "mimetype": "text/x-python",
   "name": "python",
   "nbconvert_exporter": "python",
   "pygments_lexer": "ipython3",
   "version": "3.9.0"
  },
  "orig_nbformat": 2,
  "kernelspec": {
   "name": "python390jvsc74a57bd0ac59ebe37160ed0dfa835113d9b8498d9f09ceb179beaac4002f036b9467c963",
   "display_name": "Python 3.9.0 64-bit"
  },
  "metadata": {
   "interpreter": {
    "hash": "ac59ebe37160ed0dfa835113d9b8498d9f09ceb179beaac4002f036b9467c963"
   }
  }
 },
 "nbformat": 4,
 "nbformat_minor": 2,
 "cells": [
  {
   "cell_type": "code",
   "execution_count": 1,
   "metadata": {},
   "outputs": [
    {
     "output_type": "stream",
     "name": "stdout",
     "text": [
      "INFO:tensorflow:Enabling eager execution\n",
      "INFO:tensorflow:Enabling v2 tensorshape\n",
      "INFO:tensorflow:Enabling resource variables\n",
      "INFO:tensorflow:Enabling tensor equality\n",
      "INFO:tensorflow:Enabling control flow v2\n"
     ]
    }
   ],
   "source": [
    "import pennylane as qml\n",
    "import tensorflow as tf\n",
    "from pennylane import numpy as np\n",
    "from matplotlib import pyplot as plt"
   ]
  },
  {
   "cell_type": "code",
   "execution_count": 2,
   "metadata": {},
   "outputs": [],
   "source": [
    "num_wires = 5\n",
    "dev = qml.device('cirq.simulator', wires=num_wires)"
   ]
  },
  {
   "cell_type": "code",
   "execution_count": 3,
   "metadata": {},
   "outputs": [],
   "source": [
    "def real_data(phi, **kwargs):\n",
    "    # phi is a list with length 12\n",
    "    qml.Hadamard(wires=0)\n",
    "    qml.CNOT(wires=[0,1])\n",
    "    qml.RX(phi[0], wires=0)\n",
    "    qml.RY(phi[1], wires=0)\n",
    "    qml.RZ(phi[2], wires=0)\n",
    "    qml.RX(phi[3], wires=0)\n",
    "    qml.RY(phi[4], wires=0)\n",
    "    qml.RZ(phi[5], wires=0)\n",
    "    qml.CNOT(wires=[0, 1])\n",
    "    qml.RX(phi[6], wires=1)\n",
    "    qml.RY(phi[7], wires=1)\n",
    "    qml.RZ(phi[8], wires=1)\n",
    "    qml.RX(phi[9], wires=1)\n",
    "    qml.RY(phi[10], wires=1)\n",
    "    qml.RZ(phi[11], wires=1)"
   ]
  },
  {
   "cell_type": "code",
   "execution_count": 4,
   "metadata": {},
   "outputs": [],
   "source": [
    "# Wires 0 and 1 are the 2 qubit state. \n",
    "\n",
    "def generator(w, **kwargs):\n",
    "    qml.Hadamard(wires=0)\n",
    "    qml.CNOT(wires=[0,1])\n",
    "    generator_layer(w[:11])\n",
    "    generator_layer(w[11:22])\n",
    "    generator_layer(w[22:33]) # includes w[22], doesnt include w[33]\n",
    "    qml.RX(w[33], wires=0)\n",
    "    qml.RY(w[34], wires=0)\n",
    "    qml.RZ(w[35], wires=0)\n",
    "    qml.RX(w[36], wires=1)\n",
    "    qml.RY(w[37], wires=1)\n",
    "    qml.RZ(w[38], wires=1)\n",
    "    qml.CNOT(wires=[0, 1])\n",
    "    qml.RX(w[39], wires=0)\n",
    "    qml.RY(w[40], wires=0)\n",
    "    qml.RZ(w[41], wires=0)\n",
    "    qml.RX(w[42], wires=1)\n",
    "    qml.RY(w[43], wires=1)\n",
    "    qml.RZ(w[44], wires=1)\n",
    "\n",
    "def generator_layer(w):\n",
    "    qml.RX(w[0], wires=0)\n",
    "    qml.RX(w[1], wires=1)\n",
    "    qml.RX(w[2], wires=2)\n",
    "    qml.RX(w[3], wires=3)\n",
    "    qml.RZ(w[4], wires=0)\n",
    "    qml.RZ(w[5], wires=1)\n",
    "    qml.RZ(w[6], wires=2)\n",
    "    qml.RZ(w[7], wires=3)\n",
    "    qml.MultiRZ(w[8], wires=[0, 1])\n",
    "    qml.MultiRZ(w[9], wires=[2, 3])\n",
    "    qml.MultiRZ(w[10], wires=[1, 2])\n",
    "    # 11 weights"
   ]
  },
  {
   "cell_type": "code",
   "execution_count": 19,
   "metadata": {},
   "outputs": [],
   "source": [
    "# the discriminator acts on wires 0, 1, and 4\n",
    "\n",
    "def discriminator_layer(w, **kwargs):\n",
    "    qml.RX(w[0], wires=0)\n",
    "    qml.RX(w[1], wires=1)\n",
    "    qml.RX(w[2], wires=4)\n",
    "    qml.RZ(w[3], wires=0)\n",
    "    qml.RZ(w[4], wires=1)\n",
    "    qml.RZ(w[5], wires=4)\n",
    "    qml.MultiRZ(w[6], wires=[0, 1])\n",
    "    qml.MultiRZ(w[7], wires=[1, 4])\n",
    "\n",
    "def discriminator(w, **kwargs):\n",
    "    qml.Hadamard(wires=0)\n",
    "    qml.CNOT(wires=[0,1])\n",
    "    discriminator_layer(w[:8])\n",
    "    discriminator_layer(w[8:16]) \n",
    "    discriminator_layer(w[16:32])\n",
    "    qml.RX(w[32], wires=4)\n",
    "    qml.RY(w[33], wires=4)\n",
    "    qml.RZ(w[34], wires=4)"
   ]
  },
  {
   "cell_type": "code",
   "execution_count": 6,
   "metadata": {},
   "outputs": [],
   "source": [
    "@qml.qnode(dev, interface='tf')\n",
    "def real_discriminator(phi, discriminator_weights):\n",
    "    real_data(phi)\n",
    "    discriminator(discriminator_weights)\n",
    "    return qml.expval(qml.PauliZ(4))\n",
    "\n",
    "@qml.qnode(dev, interface='tf')\n",
    "def generator_discriminator(generator_weights, discriminator_weights):\n",
    "    generator(generator_weights)\n",
    "    discriminator(discriminator_weights)\n",
    "    return qml.expval(qml.PauliZ(4))"
   ]
  },
  {
   "cell_type": "code",
   "execution_count": 7,
   "metadata": {},
   "outputs": [],
   "source": [
    "def probability_real_real(discriminator_weights):\n",
    "    # probability of guessing real data as real\n",
    "    discriminator_output = real_discriminator(phi, discriminator_weights) # the output of the discriminator classifying the data as real\n",
    "    probability_real_real = (discriminator_output + 1) / 2\n",
    "    return probability_real_real\n",
    "\n",
    "def probability_fake_real(generator_weights, discriminator_weights):\n",
    "    # probability of guessing real fake as real\n",
    "    # incorrect classification\n",
    "    discriminator_output = generator_discriminator(generator_weights, discriminator_weights)\n",
    "    probability_fake_real = (discriminator_output + 1) / 2\n",
    "    return probability_fake_real\n",
    "       \n",
    "def discriminator_cost(discriminator_weights):\n",
    "    accuracy = probability_real_real(discriminator_weights) - probability_fake_real(generator_weights, discriminator_weights)\n",
    "    # accuracy = correct classification - incorrect classification\n",
    "    cost = -accuracy    \n",
    "    return cost\n",
    "\n",
    "def generator_cost(generator_weights):\n",
    "    accuracy = probability_fake_real(generator_weights, discriminator_weights)\n",
    "    # accuracy = probability that the generator fools the discriminator\n",
    "    cost = -accuracy\n",
    "    return cost"
   ]
  },
  {
   "source": [
    "# variables\n",
    "phi = [np.pi] * 12\n",
    "for i in range(len(phi)):\n",
    "    phi[i] = phi[i] / np.random.randint(2, 11)\n",
    "num_epochs = 30\n",
    "eps = 1 \n",
    "\n",
    "initial_generator_weights = np.array([np.pi] + [0] * 44) + \\\n",
    "    np.random.normal(scale=eps, size=(45,))\n",
    "initial_discriminator_weights = np.random.normal(scale=eps, size=(35,))\n",
    "\n",
    "generator_weights = tf.Variable(initial_generator_weights)\n",
    "discriminator_weights = tf.Variable(initial_discriminator_weights)"
   ],
   "cell_type": "code",
   "metadata": {},
   "execution_count": 8,
   "outputs": []
  },
  {
   "source": [
    "Irrelevant question: where does the name 'eps' come from? epsilon?"
   ],
   "cell_type": "markdown",
   "metadata": {}
  },
  {
   "cell_type": "code",
   "execution_count": 9,
   "metadata": {},
   "outputs": [
    {
     "output_type": "stream",
     "name": "stdout",
     "text": [
      "35\n",
      "\n",
      "Cost: 0.05929026007652283\n",
      "\n",
      "Probability classify real as real:  0.7199530154466629\n",
      "\n",
      "Probability classify fake as real:  0.8178443387150764\n"
     ]
    }
   ],
   "source": [
    "# Let's run some tests first to make sure ur circuitry works.\n",
    "# print(initial_discriminator_weights)\n",
    "print(len(initial_discriminator_weights))\n",
    "print('\\nCost:', discriminator_cost(discriminator_weights).numpy())\n",
    "print('\\nProbability classify real as real: ', probability_real_real(generator_weights).numpy())\n",
    "print('\\nProbability classify fake as real: ', probability_fake_real(generator_weights, discriminator_weights).numpy())"
   ]
  },
  {
   "cell_type": "code",
   "execution_count": 10,
   "metadata": {},
   "outputs": [
    {
     "output_type": "stream",
     "name": "stdout",
     "text": [
      " 0: ──H───────────╭C──────────RX(0.393)──RY(0.785)──RZ(1.57)──RX(0.393)──RY(0.314)──RZ(0.628)──╭C──H───────────────────────────────────────────────────────────────╭C──RX(3.7)─────RZ(0.102)──╭X──RZ(1.36)──╭X───H──────────────────╭C───────────RX(-0.219)──RZ(-1.56)────╭X──RZ(-0.433)──╭X───H─────────────────╭C──────────RX(0.955)──RZ(-0.771)──╭X──RZ(0.57)──╭X─────────────────────────────────────────────────────────┤     \n 1: ──────────────╰X───────────────────────────────────────────────────────────────────────────╰X──RX(1.05)──RY(0.349)──RZ(0.349)──RX(1.05)──RY(0.449)──RZ(0.449)──╰X──RX(-0.208)──RZ(0.683)──╰C────────────╰C──╭X──RZ(-0.368)──╭X──╰X───────────RX(-1.45)───RZ(-0.0262)──╰C──────────────╰C──╭X──RZ(0.242)──╭X──╰X──────────RX(-1.84)──RZ(0.711)───╰C────────────╰C──╭X──RZ(-0.475)──╭X─────────────────────────────────────┤     \n 4: ──RX(-0.947)───RZ(0.656)────────────────────────────────────────────────────────────────────────────────────────────────────────────────────────────────────────────────────────────────────────────────────╰C──────────────╰C───RX(-0.334)──RZ(1.76)─────────────────────────────────────╰C─────────────╰C───RX(-1.24)──RZ(-1.37)────────────────────────────────╰C──────────────╰C──RX(-0.0351)──RY(0.463)──RZ(-0.13)──┤ ⟨Z⟩ \n\n"
     ]
    }
   ],
   "source": [
    "print(real_discriminator.draw())\n",
    "# generator_discriminator.print_applied()\n",
    "# dev._real_discriminator.draw()\n"
   ]
  },
  {
   "cell_type": "code",
   "execution_count": 10,
   "metadata": {},
   "outputs": [],
   "source": [
    "opt = tf.keras.optimizers.SGD(0.4) # 0.4 is lr?"
   ]
  },
  {
   "cell_type": "code",
   "execution_count": 16,
   "metadata": {
    "tags": []
   },
   "outputs": [],
   "source": [
    "def train_discriminator():\n",
    "    for epoch in range(num_epochs):\n",
    "        cost = lambda: discriminator_cost(discriminator_weights) \n",
    "        # you need lambda because discriminator weights is a tensorflow object\n",
    "        opt.minimize(cost, discriminator_weights)\n",
    "        if epoch % 5 == 0:\n",
    "            cost_val = discriminator_cost(discriminator_weights).numpy()\n",
    "            print('Epoch  {}/{}, Cost: {}, Probability class real as real: {}'.format(epoch, num_epochs, cost_val, probability_real_real(discriminator_weights).numpy()))\n",
    "        if epoch == num_epochs - 1:\n",
    "            print('\\n')\n",
    "\n",
    "def train_generator():\n",
    "    for epoch in range(num_epochs):\n",
    "        cost = lambda: generator_cost(generator_weights)\n",
    "        opt.minimize(cost, generator_weights)\n",
    "        if epoch % 5 == 0:\n",
    "            cost_val = generator_cost(generator_weights).numpy()\n",
    "            print('Epoch  {}/{}, Cost: {}, Probability class fake as real: {}'.format(epoch, num_epochs, cost_val, probability_fake_real(generator_weights, discriminator_weights).numpy()))\n",
    "        if epoch == num_epochs - 1:\n",
    "            print('\\n')"
   ]
  },
  {
   "cell_type": "code",
   "execution_count": 17,
   "metadata": {},
   "outputs": [
    {
     "output_type": "stream",
     "name": "stdout",
     "text": [
      "Epoch  0/30, Cost: -0.14299175143241882, Probability class real as real: 0.7159662395715714\n",
      "Epoch  5/30, Cost: -0.16198615729808807, Probability class real as real: 0.6768261790275574\n",
      "Epoch  10/30, Cost: -0.1782488077878952, Probability class real as real: 0.6543751358985901\n",
      "Epoch  15/30, Cost: -0.1930706650018692, Probability class real as real: 0.6391105055809021\n",
      "Epoch  20/30, Cost: -0.20613813400268555, Probability class real as real: 0.6282232850790024\n",
      "Epoch  25/30, Cost: -0.2171032577753067, Probability class real as real: 0.6213741898536682\n",
      "\n",
      "\n",
      "Epoch  0/30, Cost: -0.8329757153987885, Probability class fake as real: 0.8329757153987885\n",
      "Epoch  5/30, Cost: -0.9646678753197193, Probability class fake as real: 0.9646678753197193\n",
      "Epoch  10/30, Cost: -0.9865575945004821, Probability class fake as real: 0.9865575945004821\n",
      "Epoch  15/30, Cost: -0.9927986208349466, Probability class fake as real: 0.9927986208349466\n",
      "Epoch  20/30, Cost: -0.994613244663924, Probability class fake as real: 0.994613244663924\n",
      "Epoch  25/30, Cost: -0.9951627007685602, Probability class fake as real: 0.9951627007685602\n",
      "\n",
      "\n"
     ]
    }
   ],
   "source": [
    "train_discriminator()\n",
    "train_generator()"
   ]
  },
  {
   "cell_type": "code",
   "execution_count": 26,
   "metadata": {},
   "outputs": [
    {
     "output_type": "stream",
     "name": "stdout",
     "text": [
      "Epoch  0/30, Cost: 0.17858757823705673, Probability class real as real: 0.7850917801260948\n",
      "Epoch  5/30, Cost: -0.5038639940321445, Probability class real as real: 0.9411767162382603\n",
      "Epoch  10/30, Cost: -0.6774246245622635, Probability class real as real: 0.8727522641420364\n",
      "Epoch  15/30, Cost: -0.6971746385097504, Probability class real as real: 0.8618842959403992\n",
      "Epoch  20/30, Cost: -0.7033393457531929, Probability class real as real: 0.8595472723245621\n",
      "Epoch  25/30, Cost: -0.7069503888487816, Probability class real as real: 0.859374426305294\n",
      "\n",
      "\n",
      "Epoch  0/30, Cost: -0.4890183061361313, Probability class fake as real: 0.4890183061361313\n",
      "Epoch  5/30, Cost: -0.9917170405387878, Probability class fake as real: 0.9917170405387878\n",
      "Epoch  10/30, Cost: -0.997629354824312, Probability class fake as real: 0.997629354824312\n",
      "Epoch  15/30, Cost: -0.9991561353090219, Probability class fake as real: 0.9991561353090219\n",
      "Epoch  20/30, Cost: -0.9995477425254649, Probability class fake as real: 0.9995477425254649\n",
      "Epoch  25/30, Cost: -0.9996513455698732, Probability class fake as real: 0.9996513455698732\n",
      "\n",
      "\n"
     ]
    }
   ],
   "source": [
    "train_discriminator()\n",
    "train_generator()"
   ]
  },
  {
   "cell_type": "code",
   "execution_count": 31,
   "metadata": {},
   "outputs": [
    {
     "output_type": "stream",
     "name": "stdout",
     "text": [
      "Epoch  0/30, Cost: -0.007052108645439148, Probability class real as real: 0.9609975330531597\n",
      "Epoch  5/30, Cost: -0.3559103012084961, Probability class real as real: 0.723712831735611\n",
      "Epoch  10/30, Cost: -0.3637230396270752, Probability class real as real: 0.6964134573936462\n",
      "Epoch  15/30, Cost: -0.3672344982624054, Probability class real as real: 0.6970476806163788\n",
      "Epoch  20/30, Cost: -0.3695698231458664, Probability class real as real: 0.6966312527656555\n",
      "Epoch  25/30, Cost: -0.3712528645992279, Probability class real as real: 0.6956034749746323\n",
      "\n",
      "\n",
      "Epoch  0/30, Cost: -0.7955523580312729, Probability class fake as real: 0.7955523580312729\n",
      "Epoch  5/30, Cost: -0.9809010997414589, Probability class fake as real: 0.9809010997414589\n",
      "Epoch  10/30, Cost: -0.9881522729992867, Probability class fake as real: 0.9881522729992867\n",
      "Epoch  15/30, Cost: -0.9926588421221823, Probability class fake as real: 0.9926588421221823\n",
      "Epoch  20/30, Cost: -0.9953998399432749, Probability class fake as real: 0.9953998399432749\n",
      "Epoch  25/30, Cost: -0.997010440682061, Probability class fake as real: 0.997010440682061\n",
      "\n",
      "\n"
     ]
    }
   ],
   "source": [
    "train_discriminator()\n",
    "train_generator()"
   ]
  },
  {
   "cell_type": "code",
   "execution_count": 47,
   "metadata": {},
   "outputs": [
    {
     "output_type": "stream",
     "name": "stdout",
     "text": [
      "Epoch  0/30, Cost: -0.027889031916856766, Probability class real as real: 0.94832718744874\n",
      "Epoch  5/30, Cost: -0.4558206796646118, Probability class real as real: 0.7265289276838303\n",
      "Epoch  10/30, Cost: -0.46332038938999176, Probability class real as real: 0.7284267246723175\n",
      "Epoch  15/30, Cost: -0.46515069901943207, Probability class real as real: 0.7312363833189011\n",
      "Epoch  20/30, Cost: -0.46579399704933167, Probability class real as real: 0.7325702458620071\n",
      "Epoch  25/30, Cost: -0.46611906588077545, Probability class real as real: 0.7332683950662613\n",
      "\n",
      "\n",
      "Epoch  0/30, Cost: -0.770309753715992, Probability class fake as real: 0.770309753715992\n",
      "Epoch  5/30, Cost: -0.9930740573909134, Probability class fake as real: 0.9930740573909134\n",
      "Epoch  10/30, Cost: -0.9949226323515177, Probability class fake as real: 0.9949226323515177\n",
      "Epoch  15/30, Cost: -0.9960942724719644, Probability class fake as real: 0.9960942724719644\n",
      "Epoch  20/30, Cost: -0.997002832707949, Probability class fake as real: 0.997002832707949\n",
      "Epoch  25/30, Cost: -0.9977047680877149, Probability class fake as real: 0.9977047680877149\n",
      "\n",
      "\n"
     ]
    }
   ],
   "source": [
    "train_discriminator()\n",
    "train_generator()"
   ]
  },
  {
   "cell_type": "code",
   "execution_count": 50,
   "metadata": {},
   "outputs": [
    {
     "output_type": "stream",
     "name": "stdout",
     "text": [
      "Epoch  0/30, Cost: -0.007515855133533478, Probability class real as real: 0.9285752773284912\n",
      "Epoch  5/30, Cost: -0.5068907737731934, Probability class real as real: 0.7865875512361526\n",
      "Epoch  10/30, Cost: -0.5138389766216278, Probability class real as real: 0.7679753601551056\n",
      "Epoch  15/30, Cost: -0.5146729052066803, Probability class real as real: 0.761462576687336\n",
      "Epoch  20/30, Cost: -0.5148178786039352, Probability class real as real: 0.759188786149025\n",
      "Epoch  25/30, Cost: -0.5148748531937599, Probability class real as real: 0.7584430575370789\n",
      "\n",
      "\n",
      "Epoch  0/30, Cost: -0.7911583185195923, Probability class fake as real: 0.7911583185195923\n",
      "Epoch  5/30, Cost: -0.9974622598383576, Probability class fake as real: 0.9974622598383576\n",
      "Epoch  10/30, Cost: -0.9982902185292915, Probability class fake as real: 0.9982902185292915\n",
      "Epoch  15/30, Cost: -0.9988065750803798, Probability class fake as real: 0.9988065750803798\n",
      "Epoch  20/30, Cost: -0.9991400801227428, Probability class fake as real: 0.9991400801227428\n",
      "Epoch  25/30, Cost: -0.9993589035293553, Probability class fake as real: 0.9993589035293553\n",
      "\n",
      "\n"
     ]
    }
   ],
   "source": [
    "train_discriminator()\n",
    "train_generator()"
   ]
  },
  {
   "cell_type": "code",
   "execution_count": 11,
   "metadata": {},
   "outputs": [
    {
     "output_type": "stream",
     "name": "stdout",
     "text": [
      "Real Bloch vector: [-6.38713226e-01  6.77924961e-01 -5.96046448e-08 -6.72066212e-03\n -3.17868590e-01 -8.75472177e-01]\n\nGenerator Bloch vector: [-0.04750997 -0.63140127 -0.22388268  0.20524305 -0.74125844 -0.11634603]\n\nDifference: [0.59120326 1.30932623 0.22388262 0.21196371 0.42338985 0.75912615]\n\nAccuracy: 0.8133169911406125\n"
     ]
    }
   ],
   "source": [
    "obs = [qml.PauliX(0), qml.PauliY(0), qml.PauliZ(0), qml.PauliX(1), qml.PauliY(1), qml.PauliZ(1)] # oh this is the observation matrix\n",
    "\n",
    "bloch_vector_real = qml.map(real_data, obs, dev, interface=\"tf\") # These qml.mapped objects are essentially mini-circuits / mini-qnodes. they functionally act this wayl.\n",
    "bloch_vector_generator = qml.map(generator, obs, dev, interface=\"tf\")\n",
    "\n",
    "bloch_vector_realz = bloch_vector_real(phi) # here: you pass phi through the mini-qnode / mini-circuit.\n",
    "bloch_vector_generatorz = bloch_vector_generator(generator_weights) # calling it with a z at the end because adding _2 at the  end is boring. for a lack of better name.\n",
    "\n",
    "difference = np.absolute(bloch_vector_generatorz - bloch_vector_realz)\n",
    "accuracy = difference / (np.pi) # the max rotation is a 2pi rotation\n",
    "# no but should it be divided by pi and not 2pi because a rotation of pi is maximum far-away-ness.\n",
    "\n",
    "# Find the mean of the accuracy\n",
    "average_accuracy = 0\n",
    "for i in range(len(accuracy)):\n",
    "    average_accuracy += accuracy[i]\n",
    "average_accuracy = average_accuracy / len(accuracy)\n",
    "average_accuracy = 1 - average_accuracy\n",
    "\n",
    "print(\"Real Bloch vector: {}\".format(bloch_vector_realz))\n",
    "print('')\n",
    "print(\"Generator Bloch vector: {}\".format(bloch_vector_generatorz))\n",
    "print('')\n",
    "print(\"Difference: {}\".format(difference))\n",
    "print('')\n",
    "print(\"Accuracy: {}\".format(average_accuracy))"
   ]
  },
  {
   "source": [
    "Success would be: the difference for each dimension is less than 0.1.\n",
    "\n",
    "no actually, how that average_accuracy variable should be read is not that it is 96% accurate but that the generated two-qubit-state is within a 4% standard deviation away from the real state.\n",
    "\n",
    "I have x accuracy for discriminator telling the real data is real and x accuracy for the generator being able to pass itself off as real. The output bloch sphere values are just not the same."
   ],
   "cell_type": "markdown",
   "metadata": {}
  },
  {
   "cell_type": "code",
   "execution_count": 11,
   "metadata": {},
   "outputs": [
    {
     "output_type": "error",
     "ename": "AttributeError",
     "evalue": "'QNodeCollection' object has no attribute 'draw'",
     "traceback": [
      "\u001b[1;31m---------------------------------------------------------------------------\u001b[0m",
      "\u001b[1;31mAttributeError\u001b[0m                            Traceback (most recent call last)",
      "\u001b[1;32m<ipython-input-11-9c2cdac0e9ea>\u001b[0m in \u001b[0;36m<module>\u001b[1;34m\u001b[0m\n\u001b[1;32m----> 1\u001b[1;33m \u001b[0mprint\u001b[0m\u001b[1;33m(\u001b[0m\u001b[0mbloch_vector_real\u001b[0m\u001b[1;33m.\u001b[0m\u001b[0mdraw\u001b[0m\u001b[1;33m(\u001b[0m\u001b[1;33m)\u001b[0m\u001b[1;33m)\u001b[0m\u001b[1;33m\u001b[0m\u001b[1;33m\u001b[0m\u001b[0m\n\u001b[0m",
      "\u001b[1;31mAttributeError\u001b[0m: 'QNodeCollection' object has no attribute 'draw'"
     ]
    }
   ],
   "source": [
    "print(bloch_vector_real.draw())"
   ]
  },
  {
   "cell_type": "code",
   "execution_count": 21,
   "metadata": {},
   "outputs": [],
   "source": [
    "@qml.qnode(dev, interface='tf')\n",
    "def generator_1(generator_weights):\n",
    "    generator(generator_weights)\n",
    "    return qml.expval(qml.PauliZ(1)), qml.expval(qml.PauliZ(0))\n",
    "\n",
    "\n",
    "@qml.qnode(dev, interface='tf')\n",
    "def discriminator_1(generator_weights):\n",
    "    discriminator(generator_weights)\n",
    "    return qml.expval(qml.PauliZ(1)), qml.expval(qml.PauliZ(0))"
   ]
  },
  {
   "cell_type": "code",
   "execution_count": 22,
   "metadata": {},
   "outputs": [
    {
     "output_type": "stream",
     "name": "stdout",
     "text": [
      "tf.Tensor([ 0.07251048 -0.05658904], shape=(2,), dtype=float64)\n"
     ]
    }
   ],
   "source": [
    "print(discriminator_1(discriminator_weights))"
   ]
  },
  {
   "cell_type": "code",
   "execution_count": 23,
   "metadata": {},
   "outputs": [
    {
     "output_type": "stream",
     "name": "stdout",
     "text": [
      " 0: ──H──────────╭C───────────RX(-1.13)──RZ(-0.407)──╭X──RZ(0.544)──╭X───RX(-0.482)──RZ(0.135)──────────────────────────────╭X──RZ(-1.03)──╭X───RX(-0.5)──RZ(1.31)──────────────────────────────╭X──RZ(-0.434)──╭X───────────────────────────────────────────────────────┤ ⟨Z⟩ \n 1: ─────────────╰X───────────RX(0.796)──RZ(0.217)───╰C─────────────╰C──╭X───────────RZ(-0.238)──╭X──RX(0.228)───RZ(-1.02)──╰C─────────────╰C──╭X─────────RZ(-1.45)──╭X──RX(-1.63)──RZ(-0.614)──╰C──────────────╰C──╭X──RZ(-0.362)──╭X───────────────────────────────────┤ ⟨Z⟩ \n 4: ──RX(0.158)───RZ(-0.322)────────────────────────────────────────────╰C───────────────────────╰C──RX(-0.794)──RZ(0.517)─────────────────────╰C────────────────────╰C──RX(0.378)──RZ(-0.158)──────────────────────╰C──────────────╰C──RX(-0.256)──RY(1.03)──RZ(0.271)──┤     \n\n"
     ]
    }
   ],
   "source": [
    "print(discriminator_1.draw())"
   ]
  },
  {
   "cell_type": "code",
   "execution_count": null,
   "metadata": {},
   "outputs": [],
   "source": []
  }
 ]
}